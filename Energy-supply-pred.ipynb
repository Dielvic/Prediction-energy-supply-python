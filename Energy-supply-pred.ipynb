{
  "nbformat": 4,
  "nbformat_minor": 0,
  "metadata": {
    "colab": {
      "name": "Untitled18.ipynb",
      "provenance": []
    },
    "kernelspec": {
      "name": "python3",
      "display_name": "Python 3"
    }
  },
  "cells": [
    {
      "cell_type": "markdown",
      "metadata": {
        "id": "zeQpywX8iMbd"
      },
      "source": [
        "# Artificial Neural Network - Powerplant"
      ]
    },
    {
      "cell_type": "markdown",
      "metadata": {
        "id": "uNxgqPQWiWkf"
      },
      "source": [
        "### Import library"
      ]
    },
    {
      "cell_type": "code",
      "metadata": {
        "id": "J1nyEZSEhssK"
      },
      "source": [
        "import numpy as np\r\n",
        "import pandas as pd\r\n",
        "import matplotlib.pyplot as plt"
      ],
      "execution_count": 1,
      "outputs": []
    },
    {
      "cell_type": "markdown",
      "metadata": {
        "id": "nSHZao-qikiL"
      },
      "source": [
        "### importing dataset"
      ]
    },
    {
      "cell_type": "code",
      "metadata": {
        "id": "AU0hO6rbinju"
      },
      "source": [
        "dataset = pd.read_excel(\"Folds5x2_pp.xlsx\")\r\n",
        "X = dataset.iloc[:,:-1].values\r\n",
        "y = dataset.iloc[:, -1].values"
      ],
      "execution_count": 2,
      "outputs": []
    },
    {
      "cell_type": "code",
      "metadata": {
        "colab": {
          "base_uri": "https://localhost:8080/"
        },
        "id": "FPqo2u5Rkoa0",
        "outputId": "0284fc40-efee-4338-9050-8a4b143ee0c7"
      },
      "source": [
        "len(X)"
      ],
      "execution_count": 3,
      "outputs": [
        {
          "output_type": "execute_result",
          "data": {
            "text/plain": [
              "9568"
            ]
          },
          "metadata": {
            "tags": []
          },
          "execution_count": 3
        }
      ]
    },
    {
      "cell_type": "markdown",
      "metadata": {
        "id": "5K0Is5TTjx6L"
      },
      "source": [
        "### Preprocessing"
      ]
    },
    {
      "cell_type": "markdown",
      "metadata": {
        "id": "e3nUXVaSk4eL"
      },
      "source": [
        "### Splitting the dataset into training set and test set"
      ]
    },
    {
      "cell_type": "code",
      "metadata": {
        "id": "EKVS0YAQj1MX"
      },
      "source": [
        "from sklearn.model_selection import train_test_split\r\n",
        "X_train, X_test, y_train, y_test = train_test_split(X, y, test_size = 0.25, random_state = 0)"
      ],
      "execution_count": 4,
      "outputs": []
    },
    {
      "cell_type": "markdown",
      "metadata": {
        "id": "J1qDWFd_lAc9"
      },
      "source": [
        "### Apply stadardisation on our data"
      ]
    },
    {
      "cell_type": "code",
      "metadata": {
        "colab": {
          "base_uri": "https://localhost:8080/"
        },
        "id": "82jUGV-OlInf",
        "outputId": "f98a57ee-bb20-47b2-9881-6ca61a04461b"
      },
      "source": [
        "from sklearn.preprocessing import StandardScaler\r\n",
        "sc = StandardScaler()\r\n",
        "sc.fit_transform(X_train)\r\n",
        "sc.transform(X_test)"
      ],
      "execution_count": 5,
      "outputs": [
        {
          "output_type": "execute_result",
          "data": {
            "text/plain": [
              "array([[ 1.20965544,  1.85532737, -0.62617679, -0.28860325],\n",
              "       [-0.2929589 , -0.39293574,  1.38971117,  0.76813499],\n",
              "       [-0.64509213, -0.8849401 ,  1.001716  ,  1.76677313],\n",
              "       ...,\n",
              "       [-0.88567171, -1.25256575,  0.31850711, -1.09585283],\n",
              "       [-1.38161508, -0.75662536,  1.20414826,  0.81803272],\n",
              "       [ 0.81585758,  0.95712421, -0.54014307, -1.18402828]])"
            ]
          },
          "metadata": {
            "tags": []
          },
          "execution_count": 5
        }
      ]
    },
    {
      "cell_type": "markdown",
      "metadata": {
        "id": "tXe0VWjrmDIF"
      },
      "source": [
        "## Création du réseau de neurone"
      ]
    },
    {
      "cell_type": "markdown",
      "metadata": {
        "id": "g2TAI_YamdJ9"
      },
      "source": [
        "### Initialisation"
      ]
    },
    {
      "cell_type": "code",
      "metadata": {
        "id": "-NZ5ESZbmJ-c"
      },
      "source": [
        "import tensorflow as tf\r\n",
        "ann = tf.keras.models.Sequential()"
      ],
      "execution_count": 6,
      "outputs": []
    },
    {
      "cell_type": "markdown",
      "metadata": {
        "id": "jlfnD9dQnOVu"
      },
      "source": [
        "### Création de l'input layer et de la premiere couche caché"
      ]
    },
    {
      "cell_type": "code",
      "metadata": {
        "id": "o6cnkoLOnTNx"
      },
      "source": [
        "ann.add(tf.keras.layers.Dense(units=6, activation='relu'))"
      ],
      "execution_count": 7,
      "outputs": []
    },
    {
      "cell_type": "markdown",
      "metadata": {
        "id": "eJpbxaRQo0JO"
      },
      "source": [
        "### Ajout de la seconde couche caché"
      ]
    },
    {
      "cell_type": "code",
      "metadata": {
        "id": "prJyOZ68o4bO"
      },
      "source": [
        "ann.add(tf.keras.layers.Dense(units=6, activation='relu'))"
      ],
      "execution_count": 8,
      "outputs": []
    },
    {
      "cell_type": "markdown",
      "metadata": {
        "id": "8STwmUdso-9m"
      },
      "source": [
        "## Ajout de la couche de sortie"
      ]
    },
    {
      "cell_type": "code",
      "metadata": {
        "id": "95nK7YUcpEYv"
      },
      "source": [
        "ann.add(tf.keras.layers.Dense(units = 1))"
      ],
      "execution_count": 9,
      "outputs": []
    },
    {
      "cell_type": "markdown",
      "metadata": {
        "id": "SMZENLREp3bl"
      },
      "source": [
        "### Training the ANN"
      ]
    },
    {
      "cell_type": "markdown",
      "metadata": {
        "id": "qp6PeWuBqN6H"
      },
      "source": [
        "### Compiling the ANN"
      ]
    },
    {
      "cell_type": "code",
      "metadata": {
        "id": "j31hwzHGqRnS"
      },
      "source": [
        "ann.compile(optimizer = 'adam', loss = 'mean_squared_error', metrics = ['mse'])"
      ],
      "execution_count": 10,
      "outputs": []
    },
    {
      "cell_type": "markdown",
      "metadata": {
        "id": "dR7Q2qOeryb_"
      },
      "source": [
        "### training the ANN on training set"
      ]
    },
    {
      "cell_type": "code",
      "metadata": {
        "colab": {
          "base_uri": "https://localhost:8080/"
        },
        "id": "n9Lemo3rp_KE",
        "outputId": "d5ca2ed4-d80a-4172-d5be-308499f7cc5d"
      },
      "source": [
        "ann.fit(X_train, y_train, batch_size = 32, epochs = 100)"
      ],
      "execution_count": 11,
      "outputs": [
        {
          "output_type": "stream",
          "text": [
            "Epoch 1/100\n",
            "225/225 [==============================] - 1s 1ms/step - loss: 382140.4861 - mse: 382140.4861\n",
            "Epoch 2/100\n",
            "225/225 [==============================] - 0s 1ms/step - loss: 2400.6275 - mse: 2400.6275\n",
            "Epoch 3/100\n",
            "225/225 [==============================] - 0s 1ms/step - loss: 393.0905 - mse: 393.0905\n",
            "Epoch 4/100\n",
            "225/225 [==============================] - 0s 1ms/step - loss: 382.2778 - mse: 382.2778\n",
            "Epoch 5/100\n",
            "225/225 [==============================] - 0s 1ms/step - loss: 365.1577 - mse: 365.1577\n",
            "Epoch 6/100\n",
            "225/225 [==============================] - 0s 1ms/step - loss: 350.6552 - mse: 350.6552\n",
            "Epoch 7/100\n",
            "225/225 [==============================] - 0s 1ms/step - loss: 339.1515 - mse: 339.1515\n",
            "Epoch 8/100\n",
            "225/225 [==============================] - 0s 1ms/step - loss: 326.8317 - mse: 326.8317\n",
            "Epoch 9/100\n",
            "225/225 [==============================] - 0s 1ms/step - loss: 315.4044 - mse: 315.4044\n",
            "Epoch 10/100\n",
            "225/225 [==============================] - 0s 1ms/step - loss: 297.2602 - mse: 297.2602\n",
            "Epoch 11/100\n",
            "225/225 [==============================] - 0s 1ms/step - loss: 280.1728 - mse: 280.1728\n",
            "Epoch 12/100\n",
            "225/225 [==============================] - 0s 1ms/step - loss: 262.8598 - mse: 262.8598\n",
            "Epoch 13/100\n",
            "225/225 [==============================] - 0s 1ms/step - loss: 244.3617 - mse: 244.3617\n",
            "Epoch 14/100\n",
            "225/225 [==============================] - 0s 1ms/step - loss: 223.6291 - mse: 223.6291\n",
            "Epoch 15/100\n",
            "225/225 [==============================] - 0s 1ms/step - loss: 207.9904 - mse: 207.9904\n",
            "Epoch 16/100\n",
            "225/225 [==============================] - 0s 1ms/step - loss: 191.9237 - mse: 191.9237\n",
            "Epoch 17/100\n",
            "225/225 [==============================] - 0s 1ms/step - loss: 170.8408 - mse: 170.8408\n",
            "Epoch 18/100\n",
            "225/225 [==============================] - 0s 1ms/step - loss: 155.7961 - mse: 155.7961\n",
            "Epoch 19/100\n",
            "225/225 [==============================] - 0s 1ms/step - loss: 138.6803 - mse: 138.6803\n",
            "Epoch 20/100\n",
            "225/225 [==============================] - 0s 1ms/step - loss: 122.4424 - mse: 122.4424\n",
            "Epoch 21/100\n",
            "225/225 [==============================] - 0s 1ms/step - loss: 112.2936 - mse: 112.2936\n",
            "Epoch 22/100\n",
            "225/225 [==============================] - 0s 1ms/step - loss: 94.4673 - mse: 94.4673\n",
            "Epoch 23/100\n",
            "225/225 [==============================] - 0s 1ms/step - loss: 81.3414 - mse: 81.3414\n",
            "Epoch 24/100\n",
            "225/225 [==============================] - 0s 1ms/step - loss: 71.4731 - mse: 71.4731\n",
            "Epoch 25/100\n",
            "225/225 [==============================] - 0s 1ms/step - loss: 62.0648 - mse: 62.0648\n",
            "Epoch 26/100\n",
            "225/225 [==============================] - 0s 1ms/step - loss: 54.2895 - mse: 54.2895\n",
            "Epoch 27/100\n",
            "225/225 [==============================] - 0s 1ms/step - loss: 50.4487 - mse: 50.4487\n",
            "Epoch 28/100\n",
            "225/225 [==============================] - 0s 1ms/step - loss: 43.1030 - mse: 43.1030\n",
            "Epoch 29/100\n",
            "225/225 [==============================] - 0s 1ms/step - loss: 40.0934 - mse: 40.0934\n",
            "Epoch 30/100\n",
            "225/225 [==============================] - 0s 1ms/step - loss: 35.5654 - mse: 35.5654\n",
            "Epoch 31/100\n",
            "225/225 [==============================] - 0s 1ms/step - loss: 33.3007 - mse: 33.3007\n",
            "Epoch 32/100\n",
            "225/225 [==============================] - 0s 1ms/step - loss: 31.3349 - mse: 31.3349\n",
            "Epoch 33/100\n",
            "225/225 [==============================] - 0s 998us/step - loss: 31.2601 - mse: 31.2601\n",
            "Epoch 34/100\n",
            "225/225 [==============================] - 0s 1ms/step - loss: 29.6903 - mse: 29.6903\n",
            "Epoch 35/100\n",
            "225/225 [==============================] - 0s 1ms/step - loss: 30.1207 - mse: 30.1207\n",
            "Epoch 36/100\n",
            "225/225 [==============================] - 0s 1ms/step - loss: 29.3151 - mse: 29.3151\n",
            "Epoch 37/100\n",
            "225/225 [==============================] - 0s 996us/step - loss: 29.4840 - mse: 29.4840\n",
            "Epoch 38/100\n",
            "225/225 [==============================] - 0s 1ms/step - loss: 29.1475 - mse: 29.1475\n",
            "Epoch 39/100\n",
            "225/225 [==============================] - 0s 1ms/step - loss: 28.1083 - mse: 28.1083\n",
            "Epoch 40/100\n",
            "225/225 [==============================] - 0s 1ms/step - loss: 26.8881 - mse: 26.8881\n",
            "Epoch 41/100\n",
            "225/225 [==============================] - 0s 1ms/step - loss: 26.8312 - mse: 26.8312\n",
            "Epoch 42/100\n",
            "225/225 [==============================] - 0s 1ms/step - loss: 28.3909 - mse: 28.3909\n",
            "Epoch 43/100\n",
            "225/225 [==============================] - 0s 1ms/step - loss: 27.8925 - mse: 27.8925\n",
            "Epoch 44/100\n",
            "225/225 [==============================] - 0s 1ms/step - loss: 28.3514 - mse: 28.3514\n",
            "Epoch 45/100\n",
            "225/225 [==============================] - 0s 1ms/step - loss: 26.3382 - mse: 26.3382\n",
            "Epoch 46/100\n",
            "225/225 [==============================] - 0s 1ms/step - loss: 27.7073 - mse: 27.7073\n",
            "Epoch 47/100\n",
            "225/225 [==============================] - 0s 1ms/step - loss: 26.1197 - mse: 26.1197\n",
            "Epoch 48/100\n",
            "225/225 [==============================] - 0s 1ms/step - loss: 26.6688 - mse: 26.6688\n",
            "Epoch 49/100\n",
            "225/225 [==============================] - 0s 1ms/step - loss: 28.9789 - mse: 28.9789\n",
            "Epoch 50/100\n",
            "225/225 [==============================] - 0s 1ms/step - loss: 27.6348 - mse: 27.6348\n",
            "Epoch 51/100\n",
            "225/225 [==============================] - 0s 1ms/step - loss: 27.5767 - mse: 27.5767\n",
            "Epoch 52/100\n",
            "225/225 [==============================] - 0s 1ms/step - loss: 27.3100 - mse: 27.3100\n",
            "Epoch 53/100\n",
            "225/225 [==============================] - 0s 1ms/step - loss: 26.5948 - mse: 26.5948\n",
            "Epoch 54/100\n",
            "225/225 [==============================] - 0s 1ms/step - loss: 26.3432 - mse: 26.3432\n",
            "Epoch 55/100\n",
            "225/225 [==============================] - 0s 1ms/step - loss: 28.0564 - mse: 28.0564\n",
            "Epoch 56/100\n",
            "225/225 [==============================] - 0s 1ms/step - loss: 27.5993 - mse: 27.5993\n",
            "Epoch 57/100\n",
            "225/225 [==============================] - 0s 1ms/step - loss: 28.1593 - mse: 28.1593\n",
            "Epoch 58/100\n",
            "225/225 [==============================] - 0s 992us/step - loss: 27.6033 - mse: 27.6033\n",
            "Epoch 59/100\n",
            "225/225 [==============================] - 0s 993us/step - loss: 27.0725 - mse: 27.0725\n",
            "Epoch 60/100\n",
            "225/225 [==============================] - 0s 1ms/step - loss: 27.8999 - mse: 27.8999\n",
            "Epoch 61/100\n",
            "225/225 [==============================] - 0s 1ms/step - loss: 26.4325 - mse: 26.4325\n",
            "Epoch 62/100\n",
            "225/225 [==============================] - 0s 1ms/step - loss: 27.6731 - mse: 27.6731\n",
            "Epoch 63/100\n",
            "225/225 [==============================] - 0s 1ms/step - loss: 26.6162 - mse: 26.6162\n",
            "Epoch 64/100\n",
            "225/225 [==============================] - 0s 1ms/step - loss: 25.7985 - mse: 25.7985\n",
            "Epoch 65/100\n",
            "225/225 [==============================] - 0s 1ms/step - loss: 26.9626 - mse: 26.9626\n",
            "Epoch 66/100\n",
            "225/225 [==============================] - 0s 1ms/step - loss: 26.1568 - mse: 26.1568\n",
            "Epoch 67/100\n",
            "225/225 [==============================] - 0s 1ms/step - loss: 27.2288 - mse: 27.2288\n",
            "Epoch 68/100\n",
            "225/225 [==============================] - 0s 1ms/step - loss: 26.4214 - mse: 26.4214\n",
            "Epoch 69/100\n",
            "225/225 [==============================] - 0s 1ms/step - loss: 28.0309 - mse: 28.0309\n",
            "Epoch 70/100\n",
            "225/225 [==============================] - 0s 1ms/step - loss: 25.8299 - mse: 25.8299\n",
            "Epoch 71/100\n",
            "225/225 [==============================] - 0s 1ms/step - loss: 26.1648 - mse: 26.1648\n",
            "Epoch 72/100\n",
            "225/225 [==============================] - 0s 1ms/step - loss: 27.0245 - mse: 27.0245\n",
            "Epoch 73/100\n",
            "225/225 [==============================] - 0s 1ms/step - loss: 27.8792 - mse: 27.8792\n",
            "Epoch 74/100\n",
            "225/225 [==============================] - 0s 1ms/step - loss: 28.3973 - mse: 28.3973\n",
            "Epoch 75/100\n",
            "225/225 [==============================] - 0s 1ms/step - loss: 28.2534 - mse: 28.2534\n",
            "Epoch 76/100\n",
            "225/225 [==============================] - 0s 1ms/step - loss: 27.8073 - mse: 27.8073\n",
            "Epoch 77/100\n",
            "225/225 [==============================] - 0s 1ms/step - loss: 27.2524 - mse: 27.2524\n",
            "Epoch 78/100\n",
            "225/225 [==============================] - 0s 1ms/step - loss: 27.9179 - mse: 27.9179\n",
            "Epoch 79/100\n",
            "225/225 [==============================] - 0s 1ms/step - loss: 27.5870 - mse: 27.5870\n",
            "Epoch 80/100\n",
            "225/225 [==============================] - 0s 1ms/step - loss: 27.5538 - mse: 27.5538\n",
            "Epoch 81/100\n",
            "225/225 [==============================] - 0s 1ms/step - loss: 27.1812 - mse: 27.1812\n",
            "Epoch 82/100\n",
            "225/225 [==============================] - 0s 1ms/step - loss: 26.7578 - mse: 26.7578\n",
            "Epoch 83/100\n",
            "225/225 [==============================] - 0s 1ms/step - loss: 26.4918 - mse: 26.4918\n",
            "Epoch 84/100\n",
            "225/225 [==============================] - 0s 1ms/step - loss: 28.2450 - mse: 28.2450\n",
            "Epoch 85/100\n",
            "225/225 [==============================] - 0s 1ms/step - loss: 26.5573 - mse: 26.5573\n",
            "Epoch 86/100\n",
            "225/225 [==============================] - 0s 1ms/step - loss: 27.3670 - mse: 27.3670\n",
            "Epoch 87/100\n",
            "225/225 [==============================] - 0s 1ms/step - loss: 27.2309 - mse: 27.2309\n",
            "Epoch 88/100\n",
            "225/225 [==============================] - 0s 1ms/step - loss: 26.3532 - mse: 26.3532\n",
            "Epoch 89/100\n",
            "225/225 [==============================] - 0s 1ms/step - loss: 27.5726 - mse: 27.5726\n",
            "Epoch 90/100\n",
            "225/225 [==============================] - 0s 1ms/step - loss: 25.7818 - mse: 25.7818\n",
            "Epoch 91/100\n",
            "225/225 [==============================] - 0s 1ms/step - loss: 27.0627 - mse: 27.0627\n",
            "Epoch 92/100\n",
            "225/225 [==============================] - 0s 1ms/step - loss: 27.6551 - mse: 27.6551\n",
            "Epoch 93/100\n",
            "225/225 [==============================] - 0s 1ms/step - loss: 26.4200 - mse: 26.4200\n",
            "Epoch 94/100\n",
            "225/225 [==============================] - 0s 1ms/step - loss: 26.8541 - mse: 26.8541\n",
            "Epoch 95/100\n",
            "225/225 [==============================] - 0s 1ms/step - loss: 26.6093 - mse: 26.6093\n",
            "Epoch 96/100\n",
            "225/225 [==============================] - 0s 1ms/step - loss: 27.2302 - mse: 27.2302\n",
            "Epoch 97/100\n",
            "225/225 [==============================] - 0s 1ms/step - loss: 28.3881 - mse: 28.3881\n",
            "Epoch 98/100\n",
            "225/225 [==============================] - 0s 1ms/step - loss: 27.6455 - mse: 27.6455\n",
            "Epoch 99/100\n",
            "225/225 [==============================] - 0s 1ms/step - loss: 29.4969 - mse: 29.4969\n",
            "Epoch 100/100\n",
            "225/225 [==============================] - 0s 1ms/step - loss: 26.1337 - mse: 26.1337\n"
          ],
          "name": "stdout"
        },
        {
          "output_type": "execute_result",
          "data": {
            "text/plain": [
              "<tensorflow.python.keras.callbacks.History at 0x7fe31964dd10>"
            ]
          },
          "metadata": {
            "tags": []
          },
          "execution_count": 11
        }
      ]
    },
    {
      "cell_type": "markdown",
      "metadata": {
        "id": "fjEf8KRxr_o0"
      },
      "source": [
        "### Making the prediction"
      ]
    },
    {
      "cell_type": "code",
      "metadata": {
        "colab": {
          "base_uri": "https://localhost:8080/"
        },
        "id": "T6rQhfGJsFfN",
        "outputId": "75de5113-2de7-4f1f-c2ee-ae521cbd83ef"
      },
      "source": [
        "y_pred = ann.predict(X_test)\r\n",
        "print(y_pred)"
      ],
      "execution_count": 12,
      "outputs": [
        {
          "output_type": "stream",
          "text": [
            "[[430.97293]\n",
            " [462.08835]\n",
            " [465.568  ]\n",
            " ...\n",
            " [471.75992]\n",
            " [476.29593]\n",
            " [440.67822]]\n"
          ],
          "name": "stdout"
        }
      ]
    },
    {
      "cell_type": "code",
      "metadata": {
        "colab": {
          "base_uri": "https://localhost:8080/"
        },
        "id": "a4AubiO1t24J",
        "outputId": "1967011f-4572-4e60-d44b-96142f7b9bc8"
      },
      "source": [
        "y_pred.shape"
      ],
      "execution_count": 13,
      "outputs": [
        {
          "output_type": "execute_result",
          "data": {
            "text/plain": [
              "(2392, 1)"
            ]
          },
          "metadata": {
            "tags": []
          },
          "execution_count": 13
        }
      ]
    },
    {
      "cell_type": "code",
      "metadata": {
        "colab": {
          "base_uri": "https://localhost:8080/"
        },
        "id": "i7uRk1mVyoVz",
        "outputId": "0047b39c-9e83-42c7-cccb-fdc9e7793719"
      },
      "source": [
        "y_test.shape"
      ],
      "execution_count": 14,
      "outputs": [
        {
          "output_type": "execute_result",
          "data": {
            "text/plain": [
              "(2392,)"
            ]
          },
          "metadata": {
            "tags": []
          },
          "execution_count": 14
        }
      ]
    },
    {
      "cell_type": "markdown",
      "metadata": {
        "id": "c45zMWPQsYNk"
      },
      "source": [
        "### Evaluation"
      ]
    },
    {
      "cell_type": "code",
      "metadata": {
        "colab": {
          "base_uri": "https://localhost:8080/"
        },
        "id": "V5rPqPtCsb5C",
        "outputId": "c2ec006c-525c-4791-95bb-b55b3ccce962"
      },
      "source": [
        "from sklearn.metrics import mean_squared_error\r\n",
        "mean_squared_error(y_test, y_pred)"
      ],
      "execution_count": 15,
      "outputs": [
        {
          "output_type": "execute_result",
          "data": {
            "text/plain": [
              "24.944928939078267"
            ]
          },
          "metadata": {
            "tags": []
          },
          "execution_count": 15
        }
      ]
    },
    {
      "cell_type": "code",
      "metadata": {
        "colab": {
          "base_uri": "https://localhost:8080/"
        },
        "id": "PgVWtBFkwshN",
        "outputId": "75d4c6e7-4042-43b4-c6a7-c26a31d28809"
      },
      "source": [
        "print(np.concatenate((y_pred.reshape(len(y_pred),1), y_test.reshape(len(y_test),1)),1))"
      ],
      "execution_count": 16,
      "outputs": [
        {
          "output_type": "stream",
          "text": [
            "[[430.97293091 431.23      ]\n",
            " [462.08834839 460.01      ]\n",
            " [465.56799316 461.14      ]\n",
            " ...\n",
            " [471.75991821 468.9       ]\n",
            " [476.29592896 473.9       ]\n",
            " [440.67822266 437.07      ]]\n"
          ],
          "name": "stdout"
        }
      ]
    },
    {
      "cell_type": "code",
      "metadata": {
        "id": "URNvAtyixELR"
      },
      "source": [
        ""
      ],
      "execution_count": 16,
      "outputs": []
    }
  ]
}